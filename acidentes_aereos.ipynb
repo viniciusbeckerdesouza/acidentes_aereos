{
  "nbformat": 4,
  "nbformat_minor": 0,
  "metadata": {
    "colab": {
      "name": "acidentes_aereos.ipynb",
      "provenance": [],
      "collapsed_sections": [],
      "authorship_tag": "ABX9TyMFh0vdPJ6hWNUQO1oYP5HF",
      "include_colab_link": true
    },
    "kernelspec": {
      "display_name": "Python 3",
      "name": "python3"
    },
    "language_info": {
      "name": "python"
    }
  },
  "cells": [
    {
      "cell_type": "markdown",
      "metadata": {
        "id": "view-in-github",
        "colab_type": "text"
      },
      "source": [
        "<a href=\"https://colab.research.google.com/github/viniciusbeckerdesouza/acidentes_aereos/blob/main/acidentes_aereos.ipynb\" target=\"_parent\"><img src=\"https://colab.research.google.com/assets/colab-badge.svg\" alt=\"Open In Colab\"/></a>"
      ]
    },
    {
      "cell_type": "code",
      "metadata": {
        "id": "QD7ktcWKxD8X"
      },
      "source": [
        "import pandas as pd\n",
        "import matplotlib.pyplot as plt\n",
        "from matplotlib.patches import Rectangle\n",
        "import seaborn as sns\n",
        "import numpy as np\n"
      ],
      "execution_count": 1,
      "outputs": []
    },
    {
      "cell_type": "code",
      "metadata": {
        "id": "J5x3J7wExdHq"
      },
      "source": [
        "df = pd.read_csv(\"http://sistema.cenipa.aer.mil.br/cenipa/media/opendata/ocorrencia_2010_2020.csv\", sep=';')"
      ],
      "execution_count": 2,
      "outputs": []
    },
    {
      "cell_type": "code",
      "metadata": {
        "colab": {
          "base_uri": "https://localhost:8080/",
          "height": 241
        },
        "collapsed": true,
        "id": "LihqGrEi2LDw",
        "outputId": "41345333-cbb4-44e1-d953-3422cee5c176"
      },
      "source": [
        "df = df.drop(columns=['codigo_ocorrencia', 'codigo_ocorrencia1', 'codigo_ocorrencia2',\n",
        "       'codigo_ocorrencia3', 'codigo_ocorrencia4'])\n",
        "df.head()"
      ],
      "execution_count": 3,
      "outputs": [
        {
          "output_type": "execute_result",
          "data": {
            "text/html": [
              "<div>\n",
              "<style scoped>\n",
              "    .dataframe tbody tr th:only-of-type {\n",
              "        vertical-align: middle;\n",
              "    }\n",
              "\n",
              "    .dataframe tbody tr th {\n",
              "        vertical-align: top;\n",
              "    }\n",
              "\n",
              "    .dataframe thead th {\n",
              "        text-align: right;\n",
              "    }\n",
              "</style>\n",
              "<table border=\"1\" class=\"dataframe\">\n",
              "  <thead>\n",
              "    <tr style=\"text-align: right;\">\n",
              "      <th></th>\n",
              "      <th>ocorrencia_classificacao</th>\n",
              "      <th>ocorrencia_latitude</th>\n",
              "      <th>ocorrencia_longitude</th>\n",
              "      <th>ocorrencia_cidade</th>\n",
              "      <th>ocorrencia_uf</th>\n",
              "      <th>ocorrencia_pais</th>\n",
              "      <th>ocorrencia_aerodromo</th>\n",
              "      <th>ocorrencia_dia</th>\n",
              "      <th>ocorrencia_hora</th>\n",
              "      <th>investigacao_aeronave_liberada</th>\n",
              "      <th>investigacao_status</th>\n",
              "      <th>divulgacao_relatorio_numero</th>\n",
              "      <th>divulgacao_relatorio_publicado</th>\n",
              "      <th>divulgacao_dia_publicacao</th>\n",
              "      <th>total_recomendacoes</th>\n",
              "      <th>total_aeronaves_envolvidas</th>\n",
              "      <th>ocorrencia_saida_pista</th>\n",
              "    </tr>\n",
              "  </thead>\n",
              "  <tbody>\n",
              "    <tr>\n",
              "      <th>0</th>\n",
              "      <td>INCIDENTE</td>\n",
              "      <td>***</td>\n",
              "      <td>***</td>\n",
              "      <td>RIO DE JANEIRO</td>\n",
              "      <td>RJ</td>\n",
              "      <td>BRASIL</td>\n",
              "      <td>****</td>\n",
              "      <td>03/01/2010</td>\n",
              "      <td>12:00:00</td>\n",
              "      <td>SIM</td>\n",
              "      <td>FINALIZADA</td>\n",
              "      <td>***</td>\n",
              "      <td>NÃO</td>\n",
              "      <td>NaN</td>\n",
              "      <td>0</td>\n",
              "      <td>1</td>\n",
              "      <td>NÃO</td>\n",
              "    </tr>\n",
              "    <tr>\n",
              "      <th>1</th>\n",
              "      <td>INCIDENTE</td>\n",
              "      <td>NaN</td>\n",
              "      <td>NaN</td>\n",
              "      <td>BELÉM</td>\n",
              "      <td>PA</td>\n",
              "      <td>BRASIL</td>\n",
              "      <td>SBBE</td>\n",
              "      <td>03/01/2010</td>\n",
              "      <td>11:05:00</td>\n",
              "      <td>SIM</td>\n",
              "      <td>FINALIZADA</td>\n",
              "      <td>NaN</td>\n",
              "      <td>NÃO</td>\n",
              "      <td>NaN</td>\n",
              "      <td>0</td>\n",
              "      <td>1</td>\n",
              "      <td>NÃO</td>\n",
              "    </tr>\n",
              "    <tr>\n",
              "      <th>2</th>\n",
              "      <td>INCIDENTE</td>\n",
              "      <td>NaN</td>\n",
              "      <td>NaN</td>\n",
              "      <td>RIO DE JANEIRO</td>\n",
              "      <td>RJ</td>\n",
              "      <td>BRASIL</td>\n",
              "      <td>SBRJ</td>\n",
              "      <td>03/01/2010</td>\n",
              "      <td>03:00:00</td>\n",
              "      <td>SIM</td>\n",
              "      <td>FINALIZADA</td>\n",
              "      <td>NaN</td>\n",
              "      <td>NÃO</td>\n",
              "      <td>NaN</td>\n",
              "      <td>0</td>\n",
              "      <td>1</td>\n",
              "      <td>NÃO</td>\n",
              "    </tr>\n",
              "    <tr>\n",
              "      <th>3</th>\n",
              "      <td>ACIDENTE</td>\n",
              "      <td>-13.1066666667</td>\n",
              "      <td>-55.9930555556</td>\n",
              "      <td>LUCAS DO RIO VERDE</td>\n",
              "      <td>MT</td>\n",
              "      <td>BRASIL</td>\n",
              "      <td>****</td>\n",
              "      <td>04/01/2010</td>\n",
              "      <td>17:30:00</td>\n",
              "      <td>SIM</td>\n",
              "      <td>FINALIZADA</td>\n",
              "      <td>A-539/CENIPA/2018</td>\n",
              "      <td>SIM</td>\n",
              "      <td>2019-10-28</td>\n",
              "      <td>0</td>\n",
              "      <td>1</td>\n",
              "      <td>NÃO</td>\n",
              "    </tr>\n",
              "    <tr>\n",
              "      <th>4</th>\n",
              "      <td>INCIDENTE</td>\n",
              "      <td>NaN</td>\n",
              "      <td>NaN</td>\n",
              "      <td>PELOTAS</td>\n",
              "      <td>RS</td>\n",
              "      <td>BRASIL</td>\n",
              "      <td>SBPK</td>\n",
              "      <td>05/01/2010</td>\n",
              "      <td>19:25:00</td>\n",
              "      <td>SIM</td>\n",
              "      <td>FINALIZADA</td>\n",
              "      <td>NaN</td>\n",
              "      <td>NÃO</td>\n",
              "      <td>NaN</td>\n",
              "      <td>0</td>\n",
              "      <td>1</td>\n",
              "      <td>NÃO</td>\n",
              "    </tr>\n",
              "  </tbody>\n",
              "</table>\n",
              "</div>"
            ],
            "text/plain": [
              "  ocorrencia_classificacao  ... ocorrencia_saida_pista\n",
              "0                INCIDENTE  ...                    NÃO\n",
              "1                INCIDENTE  ...                    NÃO\n",
              "2                INCIDENTE  ...                    NÃO\n",
              "3                 ACIDENTE  ...                    NÃO\n",
              "4                INCIDENTE  ...                    NÃO\n",
              "\n",
              "[5 rows x 17 columns]"
            ]
          },
          "metadata": {},
          "execution_count": 3
        }
      ]
    },
    {
      "cell_type": "code",
      "metadata": {
        "colab": {
          "base_uri": "https://localhost:8080/",
          "height": 297
        },
        "id": "tfxFB_yYyG97",
        "outputId": "5cebf13e-d6db-43f5-d4ca-f723a82b89b2"
      },
      "source": [
        "df.describe()"
      ],
      "execution_count": 4,
      "outputs": [
        {
          "output_type": "execute_result",
          "data": {
            "text/html": [
              "<div>\n",
              "<style scoped>\n",
              "    .dataframe tbody tr th:only-of-type {\n",
              "        vertical-align: middle;\n",
              "    }\n",
              "\n",
              "    .dataframe tbody tr th {\n",
              "        vertical-align: top;\n",
              "    }\n",
              "\n",
              "    .dataframe thead th {\n",
              "        text-align: right;\n",
              "    }\n",
              "</style>\n",
              "<table border=\"1\" class=\"dataframe\">\n",
              "  <thead>\n",
              "    <tr style=\"text-align: right;\">\n",
              "      <th></th>\n",
              "      <th>total_recomendacoes</th>\n",
              "      <th>total_aeronaves_envolvidas</th>\n",
              "    </tr>\n",
              "  </thead>\n",
              "  <tbody>\n",
              "    <tr>\n",
              "      <th>count</th>\n",
              "      <td>5752.000000</td>\n",
              "      <td>5752.000000</td>\n",
              "    </tr>\n",
              "    <tr>\n",
              "      <th>mean</th>\n",
              "      <td>0.303894</td>\n",
              "      <td>1.011996</td>\n",
              "    </tr>\n",
              "    <tr>\n",
              "      <th>std</th>\n",
              "      <td>1.153253</td>\n",
              "      <td>0.113566</td>\n",
              "    </tr>\n",
              "    <tr>\n",
              "      <th>min</th>\n",
              "      <td>0.000000</td>\n",
              "      <td>1.000000</td>\n",
              "    </tr>\n",
              "    <tr>\n",
              "      <th>25%</th>\n",
              "      <td>0.000000</td>\n",
              "      <td>1.000000</td>\n",
              "    </tr>\n",
              "    <tr>\n",
              "      <th>50%</th>\n",
              "      <td>0.000000</td>\n",
              "      <td>1.000000</td>\n",
              "    </tr>\n",
              "    <tr>\n",
              "      <th>75%</th>\n",
              "      <td>0.000000</td>\n",
              "      <td>1.000000</td>\n",
              "    </tr>\n",
              "    <tr>\n",
              "      <th>max</th>\n",
              "      <td>23.000000</td>\n",
              "      <td>3.000000</td>\n",
              "    </tr>\n",
              "  </tbody>\n",
              "</table>\n",
              "</div>"
            ],
            "text/plain": [
              "       total_recomendacoes  total_aeronaves_envolvidas\n",
              "count          5752.000000                 5752.000000\n",
              "mean              0.303894                    1.011996\n",
              "std               1.153253                    0.113566\n",
              "min               0.000000                    1.000000\n",
              "25%               0.000000                    1.000000\n",
              "50%               0.000000                    1.000000\n",
              "75%               0.000000                    1.000000\n",
              "max              23.000000                    3.000000"
            ]
          },
          "metadata": {},
          "execution_count": 4
        }
      ]
    },
    {
      "cell_type": "markdown",
      "metadata": {
        "id": "EN-9imnHsnMu"
      },
      "source": [
        "A ocorrência mais comum são os incidentes."
      ]
    },
    {
      "cell_type": "code",
      "metadata": {
        "colab": {
          "base_uri": "https://localhost:8080/",
          "height": 280
        },
        "id": "v35X6MR2yc0P",
        "outputId": "a1368614-1668-4e32-96fa-a32e5d58b0df"
      },
      "source": [
        "sns.countplot(data=df, x='ocorrencia_classificacao')\n",
        "plt.show()"
      ],
      "execution_count": 5,
      "outputs": [
        {
          "output_type": "display_data",
          "data": {
            "image/png": "[encoded data removed]",
            "text/plain": [
              "<Figure size 432x288 with 1 Axes>"
            ]
          },
          "metadata": {
            "needs_background": "light"
          }
        }
      ]
    },
    {
      "cell_type": "markdown",
      "metadata": {
        "id": "YD9M9F6TtOkj"
      },
      "source": [
        "Saída de pista não é um evnto muito comum."
      ]
    },
    {
      "cell_type": "code",
      "metadata": {
        "colab": {
          "base_uri": "https://localhost:8080/",
          "height": 280
        },
        "id": "y53OUnoHzR2w",
        "outputId": "8942cbec-e2c5-436d-a46c-ea82395d6ee2"
      },
      "source": [
        "sns.countplot(data=df, x='ocorrencia_saida_pista')\n",
        "plt.show()"
      ],
      "execution_count": 6,
      "outputs": [
        {
          "output_type": "display_data",
          "data": {
            "image/png": "[encoded data removed]",
            "text/plain": [
              "<Figure size 432x288 with 1 Axes>"
            ]
          },
          "metadata": {
            "needs_background": "light"
          }
        }
      ]
    },
    {
      "cell_type": "code",
      "metadata": {
        "colab": {
          "base_uri": "https://localhost:8080/",
          "height": 280
        },
        "id": "BPg7jQjWz2lz",
        "outputId": "201f1893-18b2-4b57-dc4e-e2cff3f1e0e0"
      },
      "source": [
        "sns.countplot(data=df, x='investigacao_aeronave_liberada')\n",
        "plt.show()"
      ],
      "execution_count": 7,
      "outputs": [
        {
          "output_type": "display_data",
          "data": {
            "image/png": "[encoded data removed]",
            "text/plain": [
              "<Figure size 432x288 with 1 Axes>"
            ]
          },
          "metadata": {
            "needs_background": "light"
          }
        }
      ]
    },
    {
      "cell_type": "markdown",
      "metadata": {
        "id": "g5ZutBigtWDE"
      },
      "source": [
        "A maioria das investigações foram finalizadas."
      ]
    },
    {
      "cell_type": "code",
      "metadata": {
        "colab": {
          "base_uri": "https://localhost:8080/",
          "height": 280
        },
        "id": "Y9Qc25HT0Gh_",
        "outputId": "1d487b2b-fb02-49ff-d45a-e58cae8720d1"
      },
      "source": [
        "sns.countplot(data=df, x='investigacao_status')\n",
        "plt.show()"
      ],
      "execution_count": 8,
      "outputs": [
        {
          "output_type": "display_data",
          "data": {
            "image/png": "[encoded data removed]",
            "text/plain": [
              "<Figure size 432x288 with 1 Axes>"
            ]
          },
          "metadata": {
            "needs_background": "light"
          }
        }
      ]
    },
    {
      "cell_type": "markdown",
      "metadata": {
        "id": "D0wzafdDtbIl"
      },
      "source": [
        "O Estado com mais ocorrências é São Paulo."
      ]
    },
    {
      "cell_type": "code",
      "metadata": {
        "colab": {
          "base_uri": "https://localhost:8080/",
          "height": 280
        },
        "id": "zTRZTNGa0MJk",
        "outputId": "41cd46ec-d37c-4339-a875-b9b3ed2dd615"
      },
      "source": [
        "sns.countplot(data=df, x='ocorrencia_uf', order=df['ocorrencia_uf'].value_counts().index[:5])\n",
        "\n",
        "plt.show()"
      ],
      "execution_count": 9,
      "outputs": [
        {
          "output_type": "display_data",
          "data": {
            "image/png": "[encoded data removed]",
            "text/plain": [
              "<Figure size 432x288 with 1 Axes>"
            ]
          },
          "metadata": {
            "needs_background": "light"
          }
        }
      ]
    },
    {
      "cell_type": "markdown",
      "metadata": {
        "id": "9k4OFj68tgtg"
      },
      "source": [
        "Em geral, apenas uma aeronave se envoveu em acidentes."
      ]
    },
    {
      "cell_type": "code",
      "metadata": {
        "colab": {
          "base_uri": "https://localhost:8080/",
          "height": 280
        },
        "id": "srG-LqDU0ZuG",
        "outputId": "ae5443e8-b91f-4e7c-e02b-a90cb9853087"
      },
      "source": [
        "sns.countplot(data=df, x='total_aeronaves_envolvidas')\n",
        "plt.show()"
      ],
      "execution_count": 10,
      "outputs": [
        {
          "output_type": "display_data",
          "data": {
            "image/png": "[encoded data removed]",
            "text/plain": [
              "<Figure size 432x288 with 1 Axes>"
            ]
          },
          "metadata": {
            "needs_background": "light"
          }
        }
      ]
    },
    {
      "cell_type": "markdown",
      "metadata": {
        "id": "Q7bdCM1Ftm7V"
      },
      "source": [
        "A maioria das investigações não tiveram o relatório publicado."
      ]
    },
    {
      "cell_type": "code",
      "metadata": {
        "colab": {
          "base_uri": "https://localhost:8080/",
          "height": 280
        },
        "id": "emTS0uik0i3I",
        "outputId": "8e01db45-418e-49c5-8e50-9ee0b410cd37"
      },
      "source": [
        "sns.countplot(data=df, x='divulgacao_relatorio_publicado')\n",
        "plt.show()"
      ],
      "execution_count": 11,
      "outputs": [
        {
          "output_type": "display_data",
          "data": {
            "image/png": "[encoded data removed]",
            "text/plain": [
              "<Figure size 432x288 with 1 Axes>"
            ]
          },
          "metadata": {
            "needs_background": "light"
          }
        }
      ]
    },
    {
      "cell_type": "code",
      "metadata": {
        "id": "AO4jGgnZ1d5r"
      },
      "source": [
        "grave = df.query('ocorrencia_classificacao == \"INCIDENTE GRAVE\"')"
      ],
      "execution_count": 12,
      "outputs": []
    },
    {
      "cell_type": "code",
      "metadata": {
        "colab": {
          "base_uri": "https://localhost:8080/",
          "height": 224
        },
        "id": "2WPEWW3Q13uU",
        "outputId": "4f2fb03d-3921-4335-cb8f-c893d06d6f39"
      },
      "source": [
        "grave.head()"
      ],
      "execution_count": 13,
      "outputs": [
        {
          "output_type": "execute_result",
          "data": {
            "text/html": [
              "<div>\n",
              "<style scoped>\n",
              "    .dataframe tbody tr th:only-of-type {\n",
              "        vertical-align: middle;\n",
              "    }\n",
              "\n",
              "    .dataframe tbody tr th {\n",
              "        vertical-align: top;\n",
              "    }\n",
              "\n",
              "    .dataframe thead th {\n",
              "        text-align: right;\n",
              "    }\n",
              "</style>\n",
              "<table border=\"1\" class=\"dataframe\">\n",
              "  <thead>\n",
              "    <tr style=\"text-align: right;\">\n",
              "      <th></th>\n",
              "      <th>ocorrencia_classificacao</th>\n",
              "      <th>ocorrencia_latitude</th>\n",
              "      <th>ocorrencia_longitude</th>\n",
              "      <th>ocorrencia_cidade</th>\n",
              "      <th>ocorrencia_uf</th>\n",
              "      <th>ocorrencia_pais</th>\n",
              "      <th>ocorrencia_aerodromo</th>\n",
              "      <th>ocorrencia_dia</th>\n",
              "      <th>ocorrencia_hora</th>\n",
              "      <th>investigacao_aeronave_liberada</th>\n",
              "      <th>investigacao_status</th>\n",
              "      <th>divulgacao_relatorio_numero</th>\n",
              "      <th>divulgacao_relatorio_publicado</th>\n",
              "      <th>divulgacao_dia_publicacao</th>\n",
              "      <th>total_recomendacoes</th>\n",
              "      <th>total_aeronaves_envolvidas</th>\n",
              "      <th>ocorrencia_saida_pista</th>\n",
              "    </tr>\n",
              "  </thead>\n",
              "  <tbody>\n",
              "    <tr>\n",
              "      <th>7</th>\n",
              "      <td>INCIDENTE GRAVE</td>\n",
              "      <td>-6.5319444444</td>\n",
              "      <td>-64.3805555556</td>\n",
              "      <td>CANUTAMA</td>\n",
              "      <td>AM</td>\n",
              "      <td>BRASIL</td>\n",
              "      <td>****</td>\n",
              "      <td>09/01/2010</td>\n",
              "      <td>12:30:00</td>\n",
              "      <td>SIM</td>\n",
              "      <td>FINALIZADA</td>\n",
              "      <td>IG-028/CENIPA/2011</td>\n",
              "      <td>SIM</td>\n",
              "      <td>2011-07-21</td>\n",
              "      <td>3</td>\n",
              "      <td>1</td>\n",
              "      <td>NÃO</td>\n",
              "    </tr>\n",
              "    <tr>\n",
              "      <th>8</th>\n",
              "      <td>INCIDENTE GRAVE</td>\n",
              "      <td>-15.2402777778</td>\n",
              "      <td>-59.3541666667</td>\n",
              "      <td>CASCAVEL</td>\n",
              "      <td>PR</td>\n",
              "      <td>BRASIL</td>\n",
              "      <td>SBCA</td>\n",
              "      <td>10/01/2010</td>\n",
              "      <td>23:15:00</td>\n",
              "      <td>SIM</td>\n",
              "      <td>FINALIZADA</td>\n",
              "      <td>I-004/CENIPA/2011</td>\n",
              "      <td>SIM</td>\n",
              "      <td>2011-06-30</td>\n",
              "      <td>2</td>\n",
              "      <td>1</td>\n",
              "      <td>NÃO</td>\n",
              "    </tr>\n",
              "    <tr>\n",
              "      <th>9</th>\n",
              "      <td>INCIDENTE GRAVE</td>\n",
              "      <td>***</td>\n",
              "      <td>***</td>\n",
              "      <td>PARÁ DE MINAS</td>\n",
              "      <td>MG</td>\n",
              "      <td>BRASIL</td>\n",
              "      <td>****</td>\n",
              "      <td>10/01/2010</td>\n",
              "      <td>20:00:00</td>\n",
              "      <td>***</td>\n",
              "      <td>NaN</td>\n",
              "      <td>NaN</td>\n",
              "      <td>NÃO</td>\n",
              "      <td>NaN</td>\n",
              "      <td>0</td>\n",
              "      <td>1</td>\n",
              "      <td>NÃO</td>\n",
              "    </tr>\n",
              "    <tr>\n",
              "      <th>29</th>\n",
              "      <td>INCIDENTE GRAVE</td>\n",
              "      <td>-25.4033333333</td>\n",
              "      <td>-49.2336111111</td>\n",
              "      <td>CURITIBA</td>\n",
              "      <td>PR</td>\n",
              "      <td>BRASIL</td>\n",
              "      <td>SBBI</td>\n",
              "      <td>23/01/2010</td>\n",
              "      <td>16:36:00</td>\n",
              "      <td>***</td>\n",
              "      <td>FINALIZADA</td>\n",
              "      <td>IG-029/CENIPA/2011</td>\n",
              "      <td>SIM</td>\n",
              "      <td>2011-07-21</td>\n",
              "      <td>2</td>\n",
              "      <td>1</td>\n",
              "      <td>SIM</td>\n",
              "    </tr>\n",
              "    <tr>\n",
              "      <th>35</th>\n",
              "      <td>INCIDENTE GRAVE</td>\n",
              "      <td>-10.290000</td>\n",
              "      <td>-48.357778</td>\n",
              "      <td>PALMAS</td>\n",
              "      <td>TO</td>\n",
              "      <td>BRASIL</td>\n",
              "      <td>SBPJ</td>\n",
              "      <td>26/01/2010</td>\n",
              "      <td>16:50:00</td>\n",
              "      <td>SIM</td>\n",
              "      <td>FINALIZADA</td>\n",
              "      <td>IG-575/CENIPA/2014</td>\n",
              "      <td>SIM</td>\n",
              "      <td>2014-10-13</td>\n",
              "      <td>0</td>\n",
              "      <td>1</td>\n",
              "      <td>NÃO</td>\n",
              "    </tr>\n",
              "  </tbody>\n",
              "</table>\n",
              "</div>"
            ],
            "text/plain": [
              "   ocorrencia_classificacao  ... ocorrencia_saida_pista\n",
              "7           INCIDENTE GRAVE  ...                    NÃO\n",
              "8           INCIDENTE GRAVE  ...                    NÃO\n",
              "9           INCIDENTE GRAVE  ...                    NÃO\n",
              "29          INCIDENTE GRAVE  ...                    SIM\n",
              "35          INCIDENTE GRAVE  ...                    NÃO\n",
              "\n",
              "[5 rows x 17 columns]"
            ]
          },
          "metadata": {},
          "execution_count": 13
        }
      ]
    },
    {
      "cell_type": "code",
      "metadata": {
        "colab": {
          "base_uri": "https://localhost:8080/",
          "height": 297
        },
        "id": "Hkl5ZJgr186L",
        "outputId": "555b0788-189b-4d0c-b347-cb6ea7a4b56d"
      },
      "source": [
        "grave.describe()"
      ],
      "execution_count": 14,
      "outputs": [
        {
          "output_type": "execute_result",
          "data": {
            "text/html": [
              "<div>\n",
              "<style scoped>\n",
              "    .dataframe tbody tr th:only-of-type {\n",
              "        vertical-align: middle;\n",
              "    }\n",
              "\n",
              "    .dataframe tbody tr th {\n",
              "        vertical-align: top;\n",
              "    }\n",
              "\n",
              "    .dataframe thead th {\n",
              "        text-align: right;\n",
              "    }\n",
              "</style>\n",
              "<table border=\"1\" class=\"dataframe\">\n",
              "  <thead>\n",
              "    <tr style=\"text-align: right;\">\n",
              "      <th></th>\n",
              "      <th>total_recomendacoes</th>\n",
              "      <th>total_aeronaves_envolvidas</th>\n",
              "    </tr>\n",
              "  </thead>\n",
              "  <tbody>\n",
              "    <tr>\n",
              "      <th>count</th>\n",
              "      <td>737.000000</td>\n",
              "      <td>737.000000</td>\n",
              "    </tr>\n",
              "    <tr>\n",
              "      <th>mean</th>\n",
              "      <td>0.504749</td>\n",
              "      <td>1.027137</td>\n",
              "    </tr>\n",
              "    <tr>\n",
              "      <th>std</th>\n",
              "      <td>1.484628</td>\n",
              "      <td>0.170745</td>\n",
              "    </tr>\n",
              "    <tr>\n",
              "      <th>min</th>\n",
              "      <td>0.000000</td>\n",
              "      <td>1.000000</td>\n",
              "    </tr>\n",
              "    <tr>\n",
              "      <th>25%</th>\n",
              "      <td>0.000000</td>\n",
              "      <td>1.000000</td>\n",
              "    </tr>\n",
              "    <tr>\n",
              "      <th>50%</th>\n",
              "      <td>0.000000</td>\n",
              "      <td>1.000000</td>\n",
              "    </tr>\n",
              "    <tr>\n",
              "      <th>75%</th>\n",
              "      <td>0.000000</td>\n",
              "      <td>1.000000</td>\n",
              "    </tr>\n",
              "    <tr>\n",
              "      <th>max</th>\n",
              "      <td>20.000000</td>\n",
              "      <td>3.000000</td>\n",
              "    </tr>\n",
              "  </tbody>\n",
              "</table>\n",
              "</div>"
            ],
            "text/plain": [
              "       total_recomendacoes  total_aeronaves_envolvidas\n",
              "count           737.000000                  737.000000\n",
              "mean              0.504749                    1.027137\n",
              "std               1.484628                    0.170745\n",
              "min               0.000000                    1.000000\n",
              "25%               0.000000                    1.000000\n",
              "50%               0.000000                    1.000000\n",
              "75%               0.000000                    1.000000\n",
              "max              20.000000                    3.000000"
            ]
          },
          "metadata": {},
          "execution_count": 14
        }
      ]
    },
    {
      "cell_type": "markdown",
      "metadata": {
        "id": "sOpIUmbxtxO3"
      },
      "source": [
        "O Estado com mais ocorrências graves é São Paulo."
      ]
    },
    {
      "cell_type": "code",
      "metadata": {
        "colab": {
          "base_uri": "https://localhost:8080/",
          "height": 280
        },
        "id": "fW--PyOm2CAy",
        "outputId": "49f0aca0-4fd7-40c4-9cdd-0224d16bb06c"
      },
      "source": [
        "sns.countplot(data=grave, x='ocorrencia_uf', order=grave['ocorrencia_uf'].value_counts().index)\n",
        "\n",
        "plt.show()"
      ],
      "execution_count": 15,
      "outputs": [
        {
          "output_type": "display_data",
          "data": {
            "image/png": "[encoded data removed]",
            "text/plain": [
              "<Figure size 432x288 with 1 Axes>"
            ]
          },
          "metadata": {
            "needs_background": "light"
          }
        }
      ]
    },
    {
      "cell_type": "code",
      "metadata": {
        "colab": {
          "base_uri": "https://localhost:8080/",
          "height": 280
        },
        "id": "vXCTbMAs3B3b",
        "outputId": "787fc32e-3ac2-4f2d-a9e8-cd5818ca6b5e"
      },
      "source": [
        "sns.countplot(data=grave, x='total_aeronaves_envolvidas')\n",
        "plt.show()"
      ],
      "execution_count": 16,
      "outputs": [
        {
          "output_type": "display_data",
          "data": {
            "image/png": "[encoded data removed]",
            "text/plain": [
              "<Figure size 432x288 with 1 Axes>"
            ]
          },
          "metadata": {
            "needs_background": "light"
          }
        }
      ]
    },
    {
      "cell_type": "code",
      "metadata": {
        "colab": {
          "base_uri": "https://localhost:8080/",
          "height": 280
        },
        "id": "7C-t5sPf3IHi",
        "outputId": "6b375674-a795-4948-cf17-9c5888f2dc22"
      },
      "source": [
        "sns.countplot(data=df, x='ocorrencia_saida_pista')\n",
        "plt.show()"
      ],
      "execution_count": 17,
      "outputs": [
        {
          "output_type": "display_data",
          "data": {
            "image/png": "[encoded data removed]",
            "text/plain": [
              "<Figure size 432x288 with 1 Axes>"
            ]
          },
          "metadata": {
            "needs_background": "light"
          }
        }
      ]
    },
    {
      "cell_type": "code",
      "metadata": {
        "colab": {
          "base_uri": "https://localhost:8080/",
          "height": 241
        },
        "id": "-AdFgBjz3ZXw",
        "outputId": "d2f44edf-9c39-4bd3-bf6b-6c27df2d51bc"
      },
      "source": [
        "df.head()"
      ],
      "execution_count": 18,
      "outputs": [
        {
          "output_type": "execute_result",
          "data": {
            "text/html": [
              "<div>\n",
              "<style scoped>\n",
              "    .dataframe tbody tr th:only-of-type {\n",
              "        vertical-align: middle;\n",
              "    }\n",
              "\n",
              "    .dataframe tbody tr th {\n",
              "        vertical-align: top;\n",
              "    }\n",
              "\n",
              "    .dataframe thead th {\n",
              "        text-align: right;\n",
              "    }\n",
              "</style>\n",
              "<table border=\"1\" class=\"dataframe\">\n",
              "  <thead>\n",
              "    <tr style=\"text-align: right;\">\n",
              "      <th></th>\n",
              "      <th>ocorrencia_classificacao</th>\n",
              "      <th>ocorrencia_latitude</th>\n",
              "      <th>ocorrencia_longitude</th>\n",
              "      <th>ocorrencia_cidade</th>\n",
              "      <th>ocorrencia_uf</th>\n",
              "      <th>ocorrencia_pais</th>\n",
              "      <th>ocorrencia_aerodromo</th>\n",
              "      <th>ocorrencia_dia</th>\n",
              "      <th>ocorrencia_hora</th>\n",
              "      <th>investigacao_aeronave_liberada</th>\n",
              "      <th>investigacao_status</th>\n",
              "      <th>divulgacao_relatorio_numero</th>\n",
              "      <th>divulgacao_relatorio_publicado</th>\n",
              "      <th>divulgacao_dia_publicacao</th>\n",
              "      <th>total_recomendacoes</th>\n",
              "      <th>total_aeronaves_envolvidas</th>\n",
              "      <th>ocorrencia_saida_pista</th>\n",
              "    </tr>\n",
              "  </thead>\n",
              "  <tbody>\n",
              "    <tr>\n",
              "      <th>0</th>\n",
              "      <td>INCIDENTE</td>\n",
              "      <td>***</td>\n",
              "      <td>***</td>\n",
              "      <td>RIO DE JANEIRO</td>\n",
              "      <td>RJ</td>\n",
              "      <td>BRASIL</td>\n",
              "      <td>****</td>\n",
              "      <td>03/01/2010</td>\n",
              "      <td>12:00:00</td>\n",
              "      <td>SIM</td>\n",
              "      <td>FINALIZADA</td>\n",
              "      <td>***</td>\n",
              "      <td>NÃO</td>\n",
              "      <td>NaN</td>\n",
              "      <td>0</td>\n",
              "      <td>1</td>\n",
              "      <td>NÃO</td>\n",
              "    </tr>\n",
              "    <tr>\n",
              "      <th>1</th>\n",
              "      <td>INCIDENTE</td>\n",
              "      <td>NaN</td>\n",
              "      <td>NaN</td>\n",
              "      <td>BELÉM</td>\n",
              "      <td>PA</td>\n",
              "      <td>BRASIL</td>\n",
              "      <td>SBBE</td>\n",
              "      <td>03/01/2010</td>\n",
              "      <td>11:05:00</td>\n",
              "      <td>SIM</td>\n",
              "      <td>FINALIZADA</td>\n",
              "      <td>NaN</td>\n",
              "      <td>NÃO</td>\n",
              "      <td>NaN</td>\n",
              "      <td>0</td>\n",
              "      <td>1</td>\n",
              "      <td>NÃO</td>\n",
              "    </tr>\n",
              "    <tr>\n",
              "      <th>2</th>\n",
              "      <td>INCIDENTE</td>\n",
              "      <td>NaN</td>\n",
              "      <td>NaN</td>\n",
              "      <td>RIO DE JANEIRO</td>\n",
              "      <td>RJ</td>\n",
              "      <td>BRASIL</td>\n",
              "      <td>SBRJ</td>\n",
              "      <td>03/01/2010</td>\n",
              "      <td>03:00:00</td>\n",
              "      <td>SIM</td>\n",
              "      <td>FINALIZADA</td>\n",
              "      <td>NaN</td>\n",
              "      <td>NÃO</td>\n",
              "      <td>NaN</td>\n",
              "      <td>0</td>\n",
              "      <td>1</td>\n",
              "      <td>NÃO</td>\n",
              "    </tr>\n",
              "    <tr>\n",
              "      <th>3</th>\n",
              "      <td>ACIDENTE</td>\n",
              "      <td>-13.1066666667</td>\n",
              "      <td>-55.9930555556</td>\n",
              "      <td>LUCAS DO RIO VERDE</td>\n",
              "      <td>MT</td>\n",
              "      <td>BRASIL</td>\n",
              "      <td>****</td>\n",
              "      <td>04/01/2010</td>\n",
              "      <td>17:30:00</td>\n",
              "      <td>SIM</td>\n",
              "      <td>FINALIZADA</td>\n",
              "      <td>A-539/CENIPA/2018</td>\n",
              "      <td>SIM</td>\n",
              "      <td>2019-10-28</td>\n",
              "      <td>0</td>\n",
              "      <td>1</td>\n",
              "      <td>NÃO</td>\n",
              "    </tr>\n",
              "    <tr>\n",
              "      <th>4</th>\n",
              "      <td>INCIDENTE</td>\n",
              "      <td>NaN</td>\n",
              "      <td>NaN</td>\n",
              "      <td>PELOTAS</td>\n",
              "      <td>RS</td>\n",
              "      <td>BRASIL</td>\n",
              "      <td>SBPK</td>\n",
              "      <td>05/01/2010</td>\n",
              "      <td>19:25:00</td>\n",
              "      <td>SIM</td>\n",
              "      <td>FINALIZADA</td>\n",
              "      <td>NaN</td>\n",
              "      <td>NÃO</td>\n",
              "      <td>NaN</td>\n",
              "      <td>0</td>\n",
              "      <td>1</td>\n",
              "      <td>NÃO</td>\n",
              "    </tr>\n",
              "  </tbody>\n",
              "</table>\n",
              "</div>"
            ],
            "text/plain": [
              "  ocorrencia_classificacao  ... ocorrencia_saida_pista\n",
              "0                INCIDENTE  ...                    NÃO\n",
              "1                INCIDENTE  ...                    NÃO\n",
              "2                INCIDENTE  ...                    NÃO\n",
              "3                 ACIDENTE  ...                    NÃO\n",
              "4                INCIDENTE  ...                    NÃO\n",
              "\n",
              "[5 rows x 17 columns]"
            ]
          },
          "metadata": {},
          "execution_count": 18
        }
      ]
    },
    {
      "cell_type": "code",
      "metadata": {
        "id": "hsSZglUBjO3C"
      },
      "source": [
        "import re"
      ],
      "execution_count": 19,
      "outputs": []
    },
    {
      "cell_type": "code",
      "metadata": {
        "id": "Dx8VdqvsjWv3"
      },
      "source": [
        "df['ocorrencia_latitude'] = df['ocorrencia_latitude'].replace(r\"\\*\", \" \", regex=True)\n",
        "df['ocorrencia_latitude'] = df['ocorrencia_latitude'].replace(r\"--\", \"-\", regex=True)"
      ],
      "execution_count": 20,
      "outputs": []
    },
    {
      "cell_type": "code",
      "metadata": {
        "colab": {
          "base_uri": "https://localhost:8080/"
        },
        "id": "LviwkjgrN8WS",
        "outputId": "a3bfbd73-a409-4726-e3bd-a9c936e26f9d"
      },
      "source": [
        "df['ocorrencia_dia'] = pd.to_datetime(df['ocorrencia_dia'],format='%d/%m/%Y')\n",
        "df['ocorrencia_dia']"
      ],
      "execution_count": 21,
      "outputs": [
        {
          "output_type": "execute_result",
          "data": {
            "text/plain": [
              "0      2010-01-03\n",
              "1      2010-01-03\n",
              "2      2010-01-03\n",
              "3      2010-01-04\n",
              "4      2010-01-05\n",
              "          ...    \n",
              "5747   2020-12-29\n",
              "5748   2020-12-30\n",
              "5749   2020-12-30\n",
              "5750   2020-12-31\n",
              "5751   2020-12-31\n",
              "Name: ocorrencia_dia, Length: 5752, dtype: datetime64[ns]"
            ]
          },
          "metadata": {},
          "execution_count": 21
        }
      ]
    },
    {
      "cell_type": "markdown",
      "metadata": {
        "id": "xTLiW02pt6ew"
      },
      "source": [
        "2012 e 2013 foram os anos com mais acidentes."
      ]
    },
    {
      "cell_type": "code",
      "metadata": {
        "colab": {
          "base_uri": "https://localhost:8080/",
          "height": 280
        },
        "id": "xPIsEZGkWc3g",
        "outputId": "e830c719-5f9e-4e4b-9349-1cec87c9cedf"
      },
      "source": [
        "sns.countplot(data=df, x=df['ocorrencia_dia'].dt.year)\n",
        "plt.show()"
      ],
      "execution_count": 22,
      "outputs": [
        {
          "output_type": "display_data",
          "data": {
            "image/png": "[encoded data removed]",
            "text/plain": [
              "<Figure size 432x288 with 1 Axes>"
            ]
          },
          "metadata": {
            "needs_background": "light"
          }
        }
      ]
    },
    {
      "cell_type": "markdown",
      "metadata": {
        "id": "crlheHhiuByQ"
      },
      "source": [
        "Janiero, março e setembro são os meses com mais ocorrências."
      ]
    },
    {
      "cell_type": "code",
      "metadata": {
        "colab": {
          "base_uri": "https://localhost:8080/",
          "height": 280
        },
        "id": "GYgkTu34XOSF",
        "outputId": "d8cda66d-d0ce-4850-bdb9-56777a0360d6"
      },
      "source": [
        "sns.countplot(data=df, x=df['ocorrencia_dia'].dt.month)\n",
        "plt.show()"
      ],
      "execution_count": 23,
      "outputs": [
        {
          "output_type": "display_data",
          "data": {
            "image/png": "[encoded data removed]",
            "text/plain": [
              "<Figure size 432x288 with 1 Axes>"
            ]
          },
          "metadata": {
            "needs_background": "light"
          }
        }
      ]
    },
    {
      "cell_type": "code",
      "metadata": {
        "colab": {
          "base_uri": "https://localhost:8080/"
        },
        "id": "yWlV5Vq4X7hB",
        "outputId": "e8b60a0c-6a5e-41ba-abf2-307333f62121"
      },
      "source": [
        "df['ocorrencia_hora'] = pd.to_datetime(df['ocorrencia_hora'],format='%H:%M:%S')\n",
        "df['ocorrencia_hora']"
      ],
      "execution_count": 24,
      "outputs": [
        {
          "output_type": "execute_result",
          "data": {
            "text/plain": [
              "0      1900-01-01 12:00:00\n",
              "1      1900-01-01 11:05:00\n",
              "2      1900-01-01 03:00:00\n",
              "3      1900-01-01 17:30:00\n",
              "4      1900-01-01 19:25:00\n",
              "               ...        \n",
              "5747   1900-01-01 19:00:00\n",
              "5748   1900-01-01 18:30:00\n",
              "5749   1900-01-01 00:54:00\n",
              "5750   1900-01-01 09:00:00\n",
              "5751   1900-01-01 13:24:00\n",
              "Name: ocorrencia_hora, Length: 5752, dtype: datetime64[ns]"
            ]
          },
          "metadata": {},
          "execution_count": 24
        }
      ]
    },
    {
      "cell_type": "markdown",
      "metadata": {
        "id": "AMOypMM2uXUZ"
      },
      "source": [
        "Ocorrem mais acidentes entre 19 e 21 horas."
      ]
    },
    {
      "cell_type": "code",
      "metadata": {
        "colab": {
          "base_uri": "https://localhost:8080/",
          "height": 443
        },
        "id": "rRBbHoufZq6q",
        "outputId": "2627a1be-9a8f-44aa-d290-0d72129563af"
      },
      "source": [
        "plt.figure(figsize=(15, 7))\n",
        "sns.countplot(data=df, x=df['ocorrencia_hora'].dt.hour)\n",
        "plt.show()"
      ],
      "execution_count": 30,
      "outputs": [
        {
          "output_type": "display_data",
          "data": {
            "image/png": "[encoded data removed]",
            "text/plain": [
              "<Figure size 1080x504 with 1 Axes>"
            ]
          },
          "metadata": {
            "needs_background": "light"
          }
        }
      ]
    },
    {
      "cell_type": "code",
      "metadata": {
        "id": "2drGriZpZw2R"
      },
      "source": [
        "grave = df.query('ocorrencia_classificacao == \"INCIDENTE GRAVE\"')"
      ],
      "execution_count": 26,
      "outputs": []
    },
    {
      "cell_type": "markdown",
      "metadata": {
        "id": "qsVXWBUmuesC"
      },
      "source": [
        "A maioria dos acidentes graves foram entre 20:00 e 21:00."
      ]
    },
    {
      "cell_type": "code",
      "metadata": {
        "colab": {
          "base_uri": "https://localhost:8080/",
          "height": 280
        },
        "id": "b6yUa8PhgkQ5",
        "outputId": "efcaf1cc-df96-4637-9a39-ec628b7a4e23"
      },
      "source": [
        "sns.countplot(data=grave, x=grave['ocorrencia_hora'].dt.hour)\n",
        "plt.show()"
      ],
      "execution_count": 27,
      "outputs": [
        {
          "output_type": "display_data",
          "data": {
            "image/png": "[encoded data removed]",
            "text/plain": [
              "<Figure size 432x288 with 1 Axes>"
            ]
          },
          "metadata": {
            "needs_background": "light"
          }
        }
      ]
    },
    {
      "cell_type": "markdown",
      "metadata": {
        "id": "1NwjRdL8umeR"
      },
      "source": [
        "E o mês com mais acidentes graves foi Agosto."
      ]
    },
    {
      "cell_type": "code",
      "metadata": {
        "colab": {
          "base_uri": "https://localhost:8080/",
          "height": 280
        },
        "id": "qv0itEvXgrB_",
        "outputId": "493d2f9b-d2cf-4984-89ba-f4381a81c376"
      },
      "source": [
        "sns.countplot(data=grave, x=grave['ocorrencia_dia'].dt.month)\n",
        "plt.show()"
      ],
      "execution_count": 28,
      "outputs": [
        {
          "output_type": "display_data",
          "data": {
            "image/png": "[encoded data removed]",
            "text/plain": [
              "<Figure size 432x288 with 1 Axes>"
            ]
          },
          "metadata": {
            "needs_background": "light"
          }
        }
      ]
    },
    {
      "cell_type": "code",
      "metadata": {
        "id": "Ovo2s-E4iYKt",
        "colab": {
          "base_uri": "https://localhost:8080/",
          "height": 384
        },
        "outputId": "4657982c-d365-4cd6-e459-31be07b8eddf"
      },
      "source": [
        "sns.catplot(data=df, x='ocorrencia_dia')\n",
        "\n",
        "plt.show()"
      ],
      "execution_count": 29,
      "outputs": [
        {
          "output_type": "display_data",
          "data": {
            "image/png": "[encoded data removed]",
            "text/plain": [
              "<Figure size 360x360 with 1 Axes>"
            ]
          },
          "metadata": {
            "needs_background": "light"
          }
        }
      ]
    },
    {
      "cell_type": "code",
      "metadata": {
        "id": "h1Nsn7hbC6pv"
      },
      "source": [
        ""
      ],
      "execution_count": 29,
      "outputs": []
    }
  ]
}